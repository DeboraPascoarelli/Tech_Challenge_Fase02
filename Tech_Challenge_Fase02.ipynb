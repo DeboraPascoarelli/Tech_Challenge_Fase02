{
 "cells": [
  {
   "cell_type": "markdown",
   "metadata": {},
   "source": [
    "# Previsão de Fechamento Diário da IBOVESPA"
   ]
  },
  {
   "cell_type": "markdown",
   "metadata": {},
   "source": [
    "## Introdução"
   ]
  },
  {
   "cell_type": "markdown",
   "metadata": {},
   "source": [
    "O objetivo deste projeto é desenvolver um modelo preditivo para prever o fechamento diário da IBOVESPA utilizando dados históricos."
   ]
  },
  {
   "cell_type": "markdown",
   "metadata": {},
   "source": [
    "## Coleta de Dados"
   ]
  },
  {
   "cell_type": "markdown",
   "metadata": {},
   "source": [
    "Os dados foram capturados do site Investing.com, abrangendo o período de 01/01/2000 a 01/01/2024."
   ]
  },
  {
   "cell_type": "code",
   "execution_count": 72,
   "metadata": {},
   "outputs": [],
   "source": [
    "import pandas as pd\n",
    "import matplotlib.pyplot as plt"
   ]
  },
  {
   "cell_type": "code",
   "execution_count": 58,
   "metadata": {},
   "outputs": [],
   "source": [
    "df_path = \"C:\\\\Users\\\\tamir\\\\OneDrive\\\\Área de Trabalho\\\\Dados Históricos - Ibovespa.csv\""
   ]
  },
  {
   "cell_type": "code",
   "execution_count": 59,
   "metadata": {},
   "outputs": [
    {
     "name": "stderr",
     "output_type": "stream",
     "text": [
      "C:\\Users\\tamir\\AppData\\Local\\Temp\\ipykernel_16556\\2815251428.py:1: UserWarning: Parsing dates in %d.%m.%Y format when dayfirst=False (the default) was specified. Pass `dayfirst=True` or specify a format to silence this warning.\n",
      "  dados = pd.read_csv(df_path, sep=',', parse_dates=[0], index_col='Data')\n"
     ]
    }
   ],
   "source": [
    "dados = pd.read_csv(df_path, sep=',', parse_dates=[0], index_col='Data')"
   ]
  },
  {
   "cell_type": "code",
   "execution_count": 69,
   "metadata": {},
   "outputs": [
    {
     "data": {
      "text/html": [
       "<div>\n",
       "<style scoped>\n",
       "    .dataframe tbody tr th:only-of-type {\n",
       "        vertical-align: middle;\n",
       "    }\n",
       "\n",
       "    .dataframe tbody tr th {\n",
       "        vertical-align: top;\n",
       "    }\n",
       "\n",
       "    .dataframe thead th {\n",
       "        text-align: right;\n",
       "    }\n",
       "</style>\n",
       "<table border=\"1\" class=\"dataframe\">\n",
       "  <thead>\n",
       "    <tr style=\"text-align: right;\">\n",
       "      <th></th>\n",
       "      <th>Último</th>\n",
       "      <th>Abertura</th>\n",
       "      <th>Máxima</th>\n",
       "      <th>Mínima</th>\n",
       "      <th>Vol.</th>\n",
       "      <th>Var%</th>\n",
       "    </tr>\n",
       "    <tr>\n",
       "      <th>Data</th>\n",
       "      <th></th>\n",
       "      <th></th>\n",
       "      <th></th>\n",
       "      <th></th>\n",
       "      <th></th>\n",
       "      <th></th>\n",
       "    </tr>\n",
       "  </thead>\n",
       "  <tbody>\n",
       "    <tr>\n",
       "      <th>2023-12-28</th>\n",
       "      <td>134.185</td>\n",
       "      <td>134.194</td>\n",
       "      <td>134.392</td>\n",
       "      <td>133.832</td>\n",
       "      <td>7810000.0</td>\n",
       "      <td>-0.01</td>\n",
       "    </tr>\n",
       "    <tr>\n",
       "      <th>2023-12-27</th>\n",
       "      <td>134.194</td>\n",
       "      <td>133.523</td>\n",
       "      <td>134.195</td>\n",
       "      <td>133.328</td>\n",
       "      <td>6170000.0</td>\n",
       "      <td>0.50</td>\n",
       "    </tr>\n",
       "    <tr>\n",
       "      <th>2023-12-26</th>\n",
       "      <td>133.533</td>\n",
       "      <td>132.753</td>\n",
       "      <td>133.645</td>\n",
       "      <td>132.753</td>\n",
       "      <td>5150000.0</td>\n",
       "      <td>0.59</td>\n",
       "    </tr>\n",
       "    <tr>\n",
       "      <th>2023-12-22</th>\n",
       "      <td>132.753</td>\n",
       "      <td>132.182</td>\n",
       "      <td>133.035</td>\n",
       "      <td>132.094</td>\n",
       "      <td>8230000.0</td>\n",
       "      <td>0.43</td>\n",
       "    </tr>\n",
       "    <tr>\n",
       "      <th>2023-12-21</th>\n",
       "      <td>132.182</td>\n",
       "      <td>130.826</td>\n",
       "      <td>132.277</td>\n",
       "      <td>130.822</td>\n",
       "      <td>8680000.0</td>\n",
       "      <td>1.05</td>\n",
       "    </tr>\n",
       "  </tbody>\n",
       "</table>\n",
       "</div>"
      ],
      "text/plain": [
       "             Último  Abertura   Máxima   Mínima       Vol.  Var%\n",
       "Data                                                            \n",
       "2023-12-28  134.185   134.194  134.392  133.832  7810000.0 -0.01\n",
       "2023-12-27  134.194   133.523  134.195  133.328  6170000.0  0.50\n",
       "2023-12-26  133.533   132.753  133.645  132.753  5150000.0  0.59\n",
       "2023-12-22  132.753   132.182  133.035  132.094  8230000.0  0.43\n",
       "2023-12-21  132.182   130.826  132.277  130.822  8680000.0  1.05"
      ]
     },
     "execution_count": 69,
     "metadata": {},
     "output_type": "execute_result"
    }
   ],
   "source": [
    "dados.head()"
   ]
  },
  {
   "cell_type": "code",
   "execution_count": 60,
   "metadata": {},
   "outputs": [
    {
     "data": {
      "text/html": [
       "<div>\n",
       "<style scoped>\n",
       "    .dataframe tbody tr th:only-of-type {\n",
       "        vertical-align: middle;\n",
       "    }\n",
       "\n",
       "    .dataframe tbody tr th {\n",
       "        vertical-align: top;\n",
       "    }\n",
       "\n",
       "    .dataframe thead th {\n",
       "        text-align: right;\n",
       "    }\n",
       "</style>\n",
       "<table border=\"1\" class=\"dataframe\">\n",
       "  <thead>\n",
       "    <tr style=\"text-align: right;\">\n",
       "      <th></th>\n",
       "      <th>Último</th>\n",
       "      <th>Abertura</th>\n",
       "      <th>Máxima</th>\n",
       "      <th>Mínima</th>\n",
       "      <th>Vol.</th>\n",
       "      <th>Var%</th>\n",
       "    </tr>\n",
       "    <tr>\n",
       "      <th>Data</th>\n",
       "      <th></th>\n",
       "      <th></th>\n",
       "      <th></th>\n",
       "      <th></th>\n",
       "      <th></th>\n",
       "      <th></th>\n",
       "    </tr>\n",
       "  </thead>\n",
       "  <tbody>\n",
       "    <tr>\n",
       "      <th>2020-01-08</th>\n",
       "      <td>116.247</td>\n",
       "      <td>116.667</td>\n",
       "      <td>117.335</td>\n",
       "      <td>115.693</td>\n",
       "      <td>5,91M</td>\n",
       "      <td>-0,36%</td>\n",
       "    </tr>\n",
       "    <tr>\n",
       "      <th>2020-01-07</th>\n",
       "      <td>116.662</td>\n",
       "      <td>116.872</td>\n",
       "      <td>117.076</td>\n",
       "      <td>115.965</td>\n",
       "      <td>4,85M</td>\n",
       "      <td>-0,18%</td>\n",
       "    </tr>\n",
       "    <tr>\n",
       "      <th>2020-01-06</th>\n",
       "      <td>116.878</td>\n",
       "      <td>117.707</td>\n",
       "      <td>117.707</td>\n",
       "      <td>116.269</td>\n",
       "      <td>6,57M</td>\n",
       "      <td>-0,70%</td>\n",
       "    </tr>\n",
       "    <tr>\n",
       "      <th>2020-01-03</th>\n",
       "      <td>117.707</td>\n",
       "      <td>118.564</td>\n",
       "      <td>118.792</td>\n",
       "      <td>117.341</td>\n",
       "      <td>6,83M</td>\n",
       "      <td>-0,73%</td>\n",
       "    </tr>\n",
       "    <tr>\n",
       "      <th>2020-01-02</th>\n",
       "      <td>118.573</td>\n",
       "      <td>115.652</td>\n",
       "      <td>118.573</td>\n",
       "      <td>115.649</td>\n",
       "      <td>5,16M</td>\n",
       "      <td>2,53%</td>\n",
       "    </tr>\n",
       "  </tbody>\n",
       "</table>\n",
       "</div>"
      ],
      "text/plain": [
       "             Último  Abertura   Máxima   Mínima   Vol.    Var%\n",
       "Data                                                          \n",
       "2020-01-08  116.247   116.667  117.335  115.693  5,91M  -0,36%\n",
       "2020-01-07  116.662   116.872  117.076  115.965  4,85M  -0,18%\n",
       "2020-01-06  116.878   117.707  117.707  116.269  6,57M  -0,70%\n",
       "2020-01-03  117.707   118.564  118.792  117.341  6,83M  -0,73%\n",
       "2020-01-02  118.573   115.652  118.573  115.649  5,16M   2,53%"
      ]
     },
     "execution_count": 60,
     "metadata": {},
     "output_type": "execute_result"
    }
   ],
   "source": [
    "dados.tail()\n"
   ]
  },
  {
   "cell_type": "code",
   "execution_count": 61,
   "metadata": {},
   "outputs": [
    {
     "data": {
      "text/plain": [
       "(994, 6)"
      ]
     },
     "execution_count": 61,
     "metadata": {},
     "output_type": "execute_result"
    }
   ],
   "source": [
    "dados.shape"
   ]
  },
  {
   "cell_type": "markdown",
   "metadata": {},
   "source": [
    "## Exploração e limpeza dos dados"
   ]
  },
  {
   "cell_type": "code",
   "execution_count": 62,
   "metadata": {},
   "outputs": [
    {
     "name": "stdout",
     "output_type": "stream",
     "text": [
      "<class 'pandas.core.frame.DataFrame'>\n",
      "DatetimeIndex: 994 entries, 2023-12-28 to 2020-01-02\n",
      "Data columns (total 6 columns):\n",
      " #   Column    Non-Null Count  Dtype  \n",
      "---  ------    --------------  -----  \n",
      " 0   Último    994 non-null    float64\n",
      " 1   Abertura  994 non-null    float64\n",
      " 2   Máxima    994 non-null    float64\n",
      " 3   Mínima    994 non-null    float64\n",
      " 4   Vol.      994 non-null    object \n",
      " 5   Var%      994 non-null    object \n",
      "dtypes: float64(4), object(2)\n",
      "memory usage: 54.4+ KB\n"
     ]
    }
   ],
   "source": [
    "dados.info()"
   ]
  },
  {
   "cell_type": "code",
   "execution_count": 63,
   "metadata": {},
   "outputs": [],
   "source": [
    "def convert_to_float(value):\n",
    "    if isinstance(value, str):\n",
    "        value = value.replace('.', '').replace(',', '.')\n",
    "        if 'M' in value:\n",
    "            return float(value.replace('M', '')) * 1_000_000\n",
    "        elif 'K' in value:\n",
    "            return float(value.replace('K', '')) * 1_000\n",
    "    return value"
   ]
  },
  {
   "cell_type": "code",
   "execution_count": 64,
   "metadata": {},
   "outputs": [
    {
     "name": "stdout",
     "output_type": "stream",
     "text": [
      "             Último  Abertura   Máxima   Mínima       Vol.    Var%\n",
      "Data                                                              \n",
      "2023-12-28  134.185   134.194  134.392  133.832  7810000.0  -0,01%\n",
      "2023-12-27  134.194   133.523  134.195  133.328  6170000.0   0,50%\n",
      "2023-12-26  133.533   132.753  133.645  132.753  5150000.0   0,59%\n",
      "2023-12-22  132.753   132.182  133.035  132.094  8230000.0   0,43%\n",
      "2023-12-21  132.182   130.826  132.277  130.822  8680000.0   1,05%\n"
     ]
    }
   ],
   "source": [
    "dados['Vol.'] = dados['Vol.'].apply(convert_to_float)\n",
    "print(dados.head())"
   ]
  },
  {
   "cell_type": "code",
   "execution_count": 65,
   "metadata": {},
   "outputs": [],
   "source": [
    "def convert_percentage_to_float(value):\n",
    "    if isinstance(value, str) and '%' in value:\n",
    "        value = value.replace('%', '').replace(',', '.')\n",
    "        if '-' in value:\n",
    "            value = value.replace('-', '')\n",
    "            return float(value) * -1\n",
    "        else:\n",
    "            return float(value)\n",
    "    return value"
   ]
  },
  {
   "cell_type": "code",
   "execution_count": 66,
   "metadata": {},
   "outputs": [
    {
     "name": "stdout",
     "output_type": "stream",
     "text": [
      "             Último  Abertura   Máxima   Mínima       Vol.  Var%\n",
      "Data                                                            \n",
      "2023-12-28  134.185   134.194  134.392  133.832  7810000.0 -0.01\n",
      "2023-12-27  134.194   133.523  134.195  133.328  6170000.0  0.50\n",
      "2023-12-26  133.533   132.753  133.645  132.753  5150000.0  0.59\n",
      "2023-12-22  132.753   132.182  133.035  132.094  8230000.0  0.43\n",
      "2023-12-21  132.182   130.826  132.277  130.822  8680000.0  1.05\n"
     ]
    }
   ],
   "source": [
    "dados['Var%'] = dados['Var%'].apply(convert_percentage_to_float)\n",
    "\n",
    "print(dados.head())"
   ]
  },
  {
   "cell_type": "code",
   "execution_count": 67,
   "metadata": {},
   "outputs": [
    {
     "name": "stdout",
     "output_type": "stream",
     "text": [
      "<class 'pandas.core.frame.DataFrame'>\n",
      "DatetimeIndex: 994 entries, 2023-12-28 to 2020-01-02\n",
      "Data columns (total 6 columns):\n",
      " #   Column    Non-Null Count  Dtype  \n",
      "---  ------    --------------  -----  \n",
      " 0   Último    994 non-null    float64\n",
      " 1   Abertura  994 non-null    float64\n",
      " 2   Máxima    994 non-null    float64\n",
      " 3   Mínima    994 non-null    float64\n",
      " 4   Vol.      994 non-null    float64\n",
      " 5   Var%      994 non-null    float64\n",
      "dtypes: float64(6)\n",
      "memory usage: 54.4 KB\n"
     ]
    }
   ],
   "source": [
    "dados.info()"
   ]
  },
  {
   "cell_type": "code",
   "execution_count": 68,
   "metadata": {},
   "outputs": [
    {
     "data": {
      "text/html": [
       "<div>\n",
       "<style scoped>\n",
       "    .dataframe tbody tr th:only-of-type {\n",
       "        vertical-align: middle;\n",
       "    }\n",
       "\n",
       "    .dataframe tbody tr th {\n",
       "        vertical-align: top;\n",
       "    }\n",
       "\n",
       "    .dataframe thead th {\n",
       "        text-align: right;\n",
       "    }\n",
       "</style>\n",
       "<table border=\"1\" class=\"dataframe\">\n",
       "  <thead>\n",
       "    <tr style=\"text-align: right;\">\n",
       "      <th></th>\n",
       "      <th>Último</th>\n",
       "      <th>Abertura</th>\n",
       "      <th>Máxima</th>\n",
       "      <th>Mínima</th>\n",
       "      <th>Vol.</th>\n",
       "      <th>Var%</th>\n",
       "    </tr>\n",
       "    <tr>\n",
       "      <th>Data</th>\n",
       "      <th></th>\n",
       "      <th></th>\n",
       "      <th></th>\n",
       "      <th></th>\n",
       "      <th></th>\n",
       "      <th></th>\n",
       "    </tr>\n",
       "  </thead>\n",
       "  <tbody>\n",
       "    <tr>\n",
       "      <th>2023-12-28</th>\n",
       "      <td>134.185</td>\n",
       "      <td>134.194</td>\n",
       "      <td>134.392</td>\n",
       "      <td>133.832</td>\n",
       "      <td>7810000.0</td>\n",
       "      <td>-0.01</td>\n",
       "    </tr>\n",
       "    <tr>\n",
       "      <th>2023-12-27</th>\n",
       "      <td>134.194</td>\n",
       "      <td>133.523</td>\n",
       "      <td>134.195</td>\n",
       "      <td>133.328</td>\n",
       "      <td>6170000.0</td>\n",
       "      <td>0.50</td>\n",
       "    </tr>\n",
       "    <tr>\n",
       "      <th>2023-12-26</th>\n",
       "      <td>133.533</td>\n",
       "      <td>132.753</td>\n",
       "      <td>133.645</td>\n",
       "      <td>132.753</td>\n",
       "      <td>5150000.0</td>\n",
       "      <td>0.59</td>\n",
       "    </tr>\n",
       "    <tr>\n",
       "      <th>2023-12-22</th>\n",
       "      <td>132.753</td>\n",
       "      <td>132.182</td>\n",
       "      <td>133.035</td>\n",
       "      <td>132.094</td>\n",
       "      <td>8230000.0</td>\n",
       "      <td>0.43</td>\n",
       "    </tr>\n",
       "    <tr>\n",
       "      <th>2023-12-21</th>\n",
       "      <td>132.182</td>\n",
       "      <td>130.826</td>\n",
       "      <td>132.277</td>\n",
       "      <td>130.822</td>\n",
       "      <td>8680000.0</td>\n",
       "      <td>1.05</td>\n",
       "    </tr>\n",
       "  </tbody>\n",
       "</table>\n",
       "</div>"
      ],
      "text/plain": [
       "             Último  Abertura   Máxima   Mínima       Vol.  Var%\n",
       "Data                                                            \n",
       "2023-12-28  134.185   134.194  134.392  133.832  7810000.0 -0.01\n",
       "2023-12-27  134.194   133.523  134.195  133.328  6170000.0  0.50\n",
       "2023-12-26  133.533   132.753  133.645  132.753  5150000.0  0.59\n",
       "2023-12-22  132.753   132.182  133.035  132.094  8230000.0  0.43\n",
       "2023-12-21  132.182   130.826  132.277  130.822  8680000.0  1.05"
      ]
     },
     "execution_count": 68,
     "metadata": {},
     "output_type": "execute_result"
    }
   ],
   "source": [
    "dados.head()"
   ]
  },
  {
   "cell_type": "code",
   "execution_count": 70,
   "metadata": {},
   "outputs": [
    {
     "data": {
      "text/html": [
       "<div>\n",
       "<style scoped>\n",
       "    .dataframe tbody tr th:only-of-type {\n",
       "        vertical-align: middle;\n",
       "    }\n",
       "\n",
       "    .dataframe tbody tr th {\n",
       "        vertical-align: top;\n",
       "    }\n",
       "\n",
       "    .dataframe thead th {\n",
       "        text-align: right;\n",
       "    }\n",
       "</style>\n",
       "<table border=\"1\" class=\"dataframe\">\n",
       "  <thead>\n",
       "    <tr style=\"text-align: right;\">\n",
       "      <th></th>\n",
       "      <th>Último</th>\n",
       "      <th>Abertura</th>\n",
       "      <th>Máxima</th>\n",
       "      <th>Mínima</th>\n",
       "      <th>Vol.</th>\n",
       "      <th>Var%</th>\n",
       "    </tr>\n",
       "  </thead>\n",
       "  <tbody>\n",
       "    <tr>\n",
       "      <th>count</th>\n",
       "      <td>994.000000</td>\n",
       "      <td>994.000000</td>\n",
       "      <td>994.000000</td>\n",
       "      <td>994.000000</td>\n",
       "      <td>9.940000e+02</td>\n",
       "      <td>994.000000</td>\n",
       "    </tr>\n",
       "    <tr>\n",
       "      <th>mean</th>\n",
       "      <td>109.835772</td>\n",
       "      <td>109.817676</td>\n",
       "      <td>110.896315</td>\n",
       "      <td>108.749022</td>\n",
       "      <td>1.121133e+07</td>\n",
       "      <td>0.030855</td>\n",
       "    </tr>\n",
       "    <tr>\n",
       "      <th>std</th>\n",
       "      <td>11.498674</td>\n",
       "      <td>11.474055</td>\n",
       "      <td>11.212105</td>\n",
       "      <td>11.718258</td>\n",
       "      <td>3.067441e+06</td>\n",
       "      <td>1.771678</td>\n",
       "    </tr>\n",
       "    <tr>\n",
       "      <th>min</th>\n",
       "      <td>63.570000</td>\n",
       "      <td>63.604000</td>\n",
       "      <td>67.604000</td>\n",
       "      <td>61.691000</td>\n",
       "      <td>3.840000e+06</td>\n",
       "      <td>-14.780000</td>\n",
       "    </tr>\n",
       "    <tr>\n",
       "      <th>25%</th>\n",
       "      <td>103.719250</td>\n",
       "      <td>103.719750</td>\n",
       "      <td>104.921250</td>\n",
       "      <td>102.571500</td>\n",
       "      <td>9.100000e+06</td>\n",
       "      <td>-0.800000</td>\n",
       "    </tr>\n",
       "    <tr>\n",
       "      <th>50%</th>\n",
       "      <td>111.644500</td>\n",
       "      <td>111.645000</td>\n",
       "      <td>112.702000</td>\n",
       "      <td>110.512500</td>\n",
       "      <td>1.096500e+07</td>\n",
       "      <td>0.050000</td>\n",
       "    </tr>\n",
       "    <tr>\n",
       "      <th>75%</th>\n",
       "      <td>117.521750</td>\n",
       "      <td>117.519750</td>\n",
       "      <td>118.319500</td>\n",
       "      <td>116.553500</td>\n",
       "      <td>1.293000e+07</td>\n",
       "      <td>0.960000</td>\n",
       "    </tr>\n",
       "    <tr>\n",
       "      <th>max</th>\n",
       "      <td>134.194000</td>\n",
       "      <td>134.194000</td>\n",
       "      <td>134.392000</td>\n",
       "      <td>133.832000</td>\n",
       "      <td>2.603000e+07</td>\n",
       "      <td>13.910000</td>\n",
       "    </tr>\n",
       "  </tbody>\n",
       "</table>\n",
       "</div>"
      ],
      "text/plain": [
       "           Último    Abertura      Máxima      Mínima          Vol.  \\\n",
       "count  994.000000  994.000000  994.000000  994.000000  9.940000e+02   \n",
       "mean   109.835772  109.817676  110.896315  108.749022  1.121133e+07   \n",
       "std     11.498674   11.474055   11.212105   11.718258  3.067441e+06   \n",
       "min     63.570000   63.604000   67.604000   61.691000  3.840000e+06   \n",
       "25%    103.719250  103.719750  104.921250  102.571500  9.100000e+06   \n",
       "50%    111.644500  111.645000  112.702000  110.512500  1.096500e+07   \n",
       "75%    117.521750  117.519750  118.319500  116.553500  1.293000e+07   \n",
       "max    134.194000  134.194000  134.392000  133.832000  2.603000e+07   \n",
       "\n",
       "             Var%  \n",
       "count  994.000000  \n",
       "mean     0.030855  \n",
       "std      1.771678  \n",
       "min    -14.780000  \n",
       "25%     -0.800000  \n",
       "50%      0.050000  \n",
       "75%      0.960000  \n",
       "max     13.910000  "
      ]
     },
     "execution_count": 70,
     "metadata": {},
     "output_type": "execute_result"
    }
   ],
   "source": [
    "dados.describe()"
   ]
  },
  {
   "cell_type": "code",
   "execution_count": 71,
   "metadata": {},
   "outputs": [
    {
     "data": {
      "text/plain": [
       "Último      0\n",
       "Abertura    0\n",
       "Máxima      0\n",
       "Mínima      0\n",
       "Vol.        0\n",
       "Var%        0\n",
       "dtype: int64"
      ]
     },
     "execution_count": 71,
     "metadata": {},
     "output_type": "execute_result"
    }
   ],
   "source": [
    "dados.isnull().sum()"
   ]
  },
  {
   "cell_type": "code",
   "execution_count": 73,
   "metadata": {},
   "outputs": [
    {
     "data": {
      "image/png": "[encoded data removed]",
      "text/plain": [
       "<Figure size 1000x600 with 1 Axes>"
      ]
     },
     "metadata": {},
     "output_type": "display_data"
    }
   ],
   "source": [
    "plt.figure(figsize=(10, 6))\n",
    "plt.plot(dados['Último'])\n",
    "plt.title('Fechamento Diário do IBOVESPA')\n",
    "plt.xlabel('Data')\n",
    "plt.ylabel('Fechamento')\n",
    "plt.show()"
   ]
  },
  {
   "cell_type": "code",
   "execution_count": null,
   "metadata": {},
   "outputs": [],
   "source": []
  }
 ],
 "metadata": {
  "kernelspec": {
   "display_name": "Python 3",
   "language": "python",
   "name": "python3"
  },
  "language_info": {
   "codemirror_mode": {
    "name": "ipython",
    "version": 3
   },
   "file_extension": ".py",
   "mimetype": "text/x-python",
   "name": "python",
   "nbconvert_exporter": "python",
   "pygments_lexer": "ipython3",
   "version": "3.12.3"
  }
 },
 "nbformat": 4,
 "nbformat_minor": 2
}
