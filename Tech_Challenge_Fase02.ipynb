{
 "cells": [
  {
   "cell_type": "markdown",
   "metadata": {},
   "source": [
    "# Previsão de Fechamento Diário da IBOVESPA"
   ]
  },
  {
   "cell_type": "markdown",
   "metadata": {},
   "source": [
    "## Introdução"
   ]
  },
  {
   "cell_type": "markdown",
   "metadata": {},
   "source": [
    "O objetivo deste projeto é desenvolver um modelo preditivo para prever o fechamento diário da IBOVESPA utilizando dados históricos. Os dados utilizados incluem o fechamento diário do índice Bovespa, abrangendo o período de 2004 a 2024. Esta análise busca não apenas prever os valores futuros, mas também identificar padrões históricos e anomalias nos dados, fornecendo insights valiosos para a tomada de decisões financeiras."
   ]
  },
  {
   "cell_type": "markdown",
   "metadata": {},
   "source": [
    "## Processo:"
   ]
  },
  {
   "cell_type": "markdown",
   "metadata": {},
   "source": [
    "### Coleta de Dados"
   ]
  },
  {
   "cell_type": "markdown",
   "metadata": {},
   "source": [
    "Os dados foram capturados do site Investing.com, abrangendo o período de 01/01/2000 a 01/01/2024."
   ]
  },
  {
   "cell_type": "code",
   "execution_count": 22,
   "metadata": {},
   "outputs": [],
   "source": [
    "import pandas as pd\n",
    "import matplotlib.pyplot as plt"
   ]
  },
  {
   "cell_type": "code",
   "execution_count": 23,
   "metadata": {},
   "outputs": [],
   "source": [
    "df_path = 'https://raw.githubusercontent.com/Tamireees/Tech_Challenge_Fase02/main/Dados%20Hist%C3%B3ricos%20-%20Ibovespa%20(2004-2024).csv'"
   ]
  },
  {
   "cell_type": "code",
   "execution_count": 24,
   "metadata": {},
   "outputs": [],
   "source": [
    "dados = pd.read_csv(df_path, sep=',', parse_dates=[0], index_col='Data')"
   ]
  },
  {
   "cell_type": "code",
   "execution_count": 25,
   "metadata": {},
   "outputs": [
    {
     "data": {
      "text/html": [
       "<div>\n",
       "<style scoped>\n",
       "    .dataframe tbody tr th:only-of-type {\n",
       "        vertical-align: middle;\n",
       "    }\n",
       "\n",
       "    .dataframe tbody tr th {\n",
       "        vertical-align: top;\n",
       "    }\n",
       "\n",
       "    .dataframe thead th {\n",
       "        text-align: right;\n",
       "    }\n",
       "</style>\n",
       "<table border=\"1\" class=\"dataframe\">\n",
       "  <thead>\n",
       "    <tr style=\"text-align: right;\">\n",
       "      <th></th>\n",
       "      <th>Último</th>\n",
       "      <th>Abertura</th>\n",
       "      <th>Máxima</th>\n",
       "      <th>Mínima</th>\n",
       "      <th>Vol.</th>\n",
       "      <th>Var%</th>\n",
       "    </tr>\n",
       "    <tr>\n",
       "      <th>Data</th>\n",
       "      <th></th>\n",
       "      <th></th>\n",
       "      <th></th>\n",
       "      <th></th>\n",
       "      <th></th>\n",
       "      <th></th>\n",
       "    </tr>\n",
       "  </thead>\n",
       "  <tbody>\n",
       "    <tr>\n",
       "      <th>01.02.2024</th>\n",
       "      <td>128.481</td>\n",
       "      <td>127.752</td>\n",
       "      <td>128.481</td>\n",
       "      <td>127.284</td>\n",
       "      <td>10,23M</td>\n",
       "      <td>0,57%</td>\n",
       "    </tr>\n",
       "    <tr>\n",
       "      <th>31.01.2024</th>\n",
       "      <td>127.752</td>\n",
       "      <td>127.402</td>\n",
       "      <td>129.558</td>\n",
       "      <td>127.326</td>\n",
       "      <td>12,50M</td>\n",
       "      <td>0,28%</td>\n",
       "    </tr>\n",
       "    <tr>\n",
       "      <th>30.01.2024</th>\n",
       "      <td>127.402</td>\n",
       "      <td>128.492</td>\n",
       "      <td>128.492</td>\n",
       "      <td>127.105</td>\n",
       "      <td>10,04M</td>\n",
       "      <td>-0,86%</td>\n",
       "    </tr>\n",
       "    <tr>\n",
       "      <th>29.01.2024</th>\n",
       "      <td>128.503</td>\n",
       "      <td>128.970</td>\n",
       "      <td>129.068</td>\n",
       "      <td>127.853</td>\n",
       "      <td>8,76M</td>\n",
       "      <td>-0,36%</td>\n",
       "    </tr>\n",
       "    <tr>\n",
       "      <th>26.01.2024</th>\n",
       "      <td>128.967</td>\n",
       "      <td>128.196</td>\n",
       "      <td>129.252</td>\n",
       "      <td>127.869</td>\n",
       "      <td>8,51M</td>\n",
       "      <td>0,62%</td>\n",
       "    </tr>\n",
       "  </tbody>\n",
       "</table>\n",
       "</div>"
      ],
      "text/plain": [
       "             Último  Abertura   Máxima   Mínima    Vol.    Var%\n",
       "Data                                                           \n",
       "01.02.2024  128.481   127.752  128.481  127.284  10,23M   0,57%\n",
       "31.01.2024  127.752   127.402  129.558  127.326  12,50M   0,28%\n",
       "30.01.2024  127.402   128.492  128.492  127.105  10,04M  -0,86%\n",
       "29.01.2024  128.503   128.970  129.068  127.853   8,76M  -0,36%\n",
       "26.01.2024  128.967   128.196  129.252  127.869   8,51M   0,62%"
      ]
     },
     "execution_count": 25,
     "metadata": {},
     "output_type": "execute_result"
    }
   ],
   "source": [
    "dados.head()"
   ]
  },
  {
   "cell_type": "code",
   "execution_count": 26,
   "metadata": {},
   "outputs": [
    {
     "data": {
      "text/html": [
       "<div>\n",
       "<style scoped>\n",
       "    .dataframe tbody tr th:only-of-type {\n",
       "        vertical-align: middle;\n",
       "    }\n",
       "\n",
       "    .dataframe tbody tr th {\n",
       "        vertical-align: top;\n",
       "    }\n",
       "\n",
       "    .dataframe thead th {\n",
       "        text-align: right;\n",
       "    }\n",
       "</style>\n",
       "<table border=\"1\" class=\"dataframe\">\n",
       "  <thead>\n",
       "    <tr style=\"text-align: right;\">\n",
       "      <th></th>\n",
       "      <th>Último</th>\n",
       "      <th>Abertura</th>\n",
       "      <th>Máxima</th>\n",
       "      <th>Mínima</th>\n",
       "      <th>Vol.</th>\n",
       "      <th>Var%</th>\n",
       "    </tr>\n",
       "    <tr>\n",
       "      <th>Data</th>\n",
       "      <th></th>\n",
       "      <th></th>\n",
       "      <th></th>\n",
       "      <th></th>\n",
       "      <th></th>\n",
       "      <th></th>\n",
       "    </tr>\n",
       "  </thead>\n",
       "  <tbody>\n",
       "    <tr>\n",
       "      <th>08.01.2004</th>\n",
       "      <td>23.717</td>\n",
       "      <td>23.334</td>\n",
       "      <td>23.718</td>\n",
       "      <td>23.122</td>\n",
       "      <td>436,74M</td>\n",
       "      <td>1,70%</td>\n",
       "    </tr>\n",
       "    <tr>\n",
       "      <th>07.01.2004</th>\n",
       "      <td>23.320</td>\n",
       "      <td>23.576</td>\n",
       "      <td>23.899</td>\n",
       "      <td>23.320</td>\n",
       "      <td>464,08M</td>\n",
       "      <td>-1,09%</td>\n",
       "    </tr>\n",
       "    <tr>\n",
       "      <th>06.01.2004</th>\n",
       "      <td>23.576</td>\n",
       "      <td>23.532</td>\n",
       "      <td>23.976</td>\n",
       "      <td>23.180</td>\n",
       "      <td>472,38M</td>\n",
       "      <td>0,19%</td>\n",
       "    </tr>\n",
       "    <tr>\n",
       "      <th>05.01.2004</th>\n",
       "      <td>23.532</td>\n",
       "      <td>22.445</td>\n",
       "      <td>23.532</td>\n",
       "      <td>22.445</td>\n",
       "      <td>496,71M</td>\n",
       "      <td>4,84%</td>\n",
       "    </tr>\n",
       "    <tr>\n",
       "      <th>02.01.2004</th>\n",
       "      <td>22.445</td>\n",
       "      <td>22.233</td>\n",
       "      <td>22.450</td>\n",
       "      <td>22.208</td>\n",
       "      <td>136,42M</td>\n",
       "      <td>0,94%</td>\n",
       "    </tr>\n",
       "  </tbody>\n",
       "</table>\n",
       "</div>"
      ],
      "text/plain": [
       "            Último  Abertura  Máxima  Mínima     Vol.    Var%\n",
       "Data                                                         \n",
       "08.01.2004  23.717    23.334  23.718  23.122  436,74M   1,70%\n",
       "07.01.2004  23.320    23.576  23.899  23.320  464,08M  -1,09%\n",
       "06.01.2004  23.576    23.532  23.976  23.180  472,38M   0,19%\n",
       "05.01.2004  23.532    22.445  23.532  22.445  496,71M   4,84%\n",
       "02.01.2004  22.445    22.233  22.450  22.208  136,42M   0,94%"
      ]
     },
     "execution_count": 26,
     "metadata": {},
     "output_type": "execute_result"
    }
   ],
   "source": [
    "dados.tail()\n"
   ]
  },
  {
   "cell_type": "code",
   "execution_count": 27,
   "metadata": {},
   "outputs": [
    {
     "data": {
      "text/plain": [
       "(4974, 6)"
      ]
     },
     "execution_count": 27,
     "metadata": {},
     "output_type": "execute_result"
    }
   ],
   "source": [
    "dados.shape"
   ]
  },
  {
   "cell_type": "markdown",
   "metadata": {},
   "source": [
    "### Exploração e limpeza dos dados"
   ]
  },
  {
   "cell_type": "code",
   "execution_count": 28,
   "metadata": {},
   "outputs": [
    {
     "name": "stdout",
     "output_type": "stream",
     "text": [
      "<class 'pandas.core.frame.DataFrame'>\n",
      "Index: 4974 entries, 01.02.2024 to 02.01.2004\n",
      "Data columns (total 6 columns):\n",
      " #   Column    Non-Null Count  Dtype  \n",
      "---  ------    --------------  -----  \n",
      " 0   Último    4974 non-null   float64\n",
      " 1   Abertura  4974 non-null   float64\n",
      " 2   Máxima    4974 non-null   float64\n",
      " 3   Mínima    4974 non-null   float64\n",
      " 4   Vol.      4973 non-null   object \n",
      " 5   Var%      4974 non-null   object \n",
      "dtypes: float64(4), object(2)\n",
      "memory usage: 272.0+ KB\n"
     ]
    }
   ],
   "source": [
    "dados.info()"
   ]
  },
  {
   "cell_type": "code",
   "execution_count": 29,
   "metadata": {},
   "outputs": [],
   "source": [
    "def convert_to_float(value):\n",
    "    if isinstance(value, str):\n",
    "        value = value.replace('.', '').replace(',', '.')\n",
    "        if 'M' in value:\n",
    "            return float(value.replace('M', '')) * 1_000_000\n",
    "        elif 'K' in value:\n",
    "            return float(value.replace('K', '')) * 1_000\n",
    "    return value"
   ]
  },
  {
   "cell_type": "code",
   "execution_count": 30,
   "metadata": {},
   "outputs": [
    {
     "name": "stdout",
     "output_type": "stream",
     "text": [
      "             Último  Abertura   Máxima   Mínima        Vol.    Var%\n",
      "Data                                                               \n",
      "01.02.2024  128.481   127.752  128.481  127.284  10230000.0   0,57%\n",
      "31.01.2024  127.752   127.402  129.558  127.326  12500000.0   0,28%\n",
      "30.01.2024  127.402   128.492  128.492  127.105  10040000.0  -0,86%\n",
      "29.01.2024  128.503   128.970  129.068  127.853   8760000.0  -0,36%\n",
      "26.01.2024  128.967   128.196  129.252  127.869   8510000.0   0,62%\n"
     ]
    }
   ],
   "source": [
    "dados['Vol.'] = dados['Vol.'].apply(convert_to_float)\n",
    "print(dados.head())"
   ]
  },
  {
   "cell_type": "code",
   "execution_count": 31,
   "metadata": {},
   "outputs": [],
   "source": [
    "def convert_percentage_to_float(value):\n",
    "    if isinstance(value, str) and '%' in value:\n",
    "        value = value.replace('%', '').replace(',', '.')\n",
    "        if '-' in value:\n",
    "            value = value.replace('-', '')\n",
    "            return float(value) * -1\n",
    "        else:\n",
    "            return float(value)\n",
    "    return value"
   ]
  },
  {
   "cell_type": "code",
   "execution_count": 32,
   "metadata": {},
   "outputs": [
    {
     "name": "stdout",
     "output_type": "stream",
     "text": [
      "             Último  Abertura   Máxima   Mínima        Vol.  Var%\n",
      "Data                                                             \n",
      "01.02.2024  128.481   127.752  128.481  127.284  10230000.0  0.57\n",
      "31.01.2024  127.752   127.402  129.558  127.326  12500000.0  0.28\n",
      "30.01.2024  127.402   128.492  128.492  127.105  10040000.0 -0.86\n",
      "29.01.2024  128.503   128.970  129.068  127.853   8760000.0 -0.36\n",
      "26.01.2024  128.967   128.196  129.252  127.869   8510000.0  0.62\n"
     ]
    }
   ],
   "source": [
    "dados['Var%'] = dados['Var%'].apply(convert_percentage_to_float)\n",
    "\n",
    "print(dados.head())"
   ]
  },
  {
   "cell_type": "code",
   "execution_count": 33,
   "metadata": {},
   "outputs": [
    {
     "name": "stdout",
     "output_type": "stream",
     "text": [
      "<class 'pandas.core.frame.DataFrame'>\n",
      "Index: 4974 entries, 01.02.2024 to 02.01.2004\n",
      "Data columns (total 6 columns):\n",
      " #   Column    Non-Null Count  Dtype  \n",
      "---  ------    --------------  -----  \n",
      " 0   Último    4974 non-null   float64\n",
      " 1   Abertura  4974 non-null   float64\n",
      " 2   Máxima    4974 non-null   float64\n",
      " 3   Mínima    4974 non-null   float64\n",
      " 4   Vol.      4973 non-null   float64\n",
      " 5   Var%      4974 non-null   float64\n",
      "dtypes: float64(6)\n",
      "memory usage: 272.0+ KB\n"
     ]
    }
   ],
   "source": [
    "dados.info()"
   ]
  },
  {
   "cell_type": "code",
   "execution_count": 34,
   "metadata": {},
   "outputs": [
    {
     "data": {
      "text/html": [
       "<div>\n",
       "<style scoped>\n",
       "    .dataframe tbody tr th:only-of-type {\n",
       "        vertical-align: middle;\n",
       "    }\n",
       "\n",
       "    .dataframe tbody tr th {\n",
       "        vertical-align: top;\n",
       "    }\n",
       "\n",
       "    .dataframe thead th {\n",
       "        text-align: right;\n",
       "    }\n",
       "</style>\n",
       "<table border=\"1\" class=\"dataframe\">\n",
       "  <thead>\n",
       "    <tr style=\"text-align: right;\">\n",
       "      <th></th>\n",
       "      <th>Último</th>\n",
       "      <th>Abertura</th>\n",
       "      <th>Máxima</th>\n",
       "      <th>Mínima</th>\n",
       "      <th>Vol.</th>\n",
       "      <th>Var%</th>\n",
       "    </tr>\n",
       "    <tr>\n",
       "      <th>Data</th>\n",
       "      <th></th>\n",
       "      <th></th>\n",
       "      <th></th>\n",
       "      <th></th>\n",
       "      <th></th>\n",
       "      <th></th>\n",
       "    </tr>\n",
       "  </thead>\n",
       "  <tbody>\n",
       "    <tr>\n",
       "      <th>01.02.2024</th>\n",
       "      <td>128.481</td>\n",
       "      <td>127.752</td>\n",
       "      <td>128.481</td>\n",
       "      <td>127.284</td>\n",
       "      <td>10230000.0</td>\n",
       "      <td>0.57</td>\n",
       "    </tr>\n",
       "    <tr>\n",
       "      <th>31.01.2024</th>\n",
       "      <td>127.752</td>\n",
       "      <td>127.402</td>\n",
       "      <td>129.558</td>\n",
       "      <td>127.326</td>\n",
       "      <td>12500000.0</td>\n",
       "      <td>0.28</td>\n",
       "    </tr>\n",
       "    <tr>\n",
       "      <th>30.01.2024</th>\n",
       "      <td>127.402</td>\n",
       "      <td>128.492</td>\n",
       "      <td>128.492</td>\n",
       "      <td>127.105</td>\n",
       "      <td>10040000.0</td>\n",
       "      <td>-0.86</td>\n",
       "    </tr>\n",
       "    <tr>\n",
       "      <th>29.01.2024</th>\n",
       "      <td>128.503</td>\n",
       "      <td>128.970</td>\n",
       "      <td>129.068</td>\n",
       "      <td>127.853</td>\n",
       "      <td>8760000.0</td>\n",
       "      <td>-0.36</td>\n",
       "    </tr>\n",
       "    <tr>\n",
       "      <th>26.01.2024</th>\n",
       "      <td>128.967</td>\n",
       "      <td>128.196</td>\n",
       "      <td>129.252</td>\n",
       "      <td>127.869</td>\n",
       "      <td>8510000.0</td>\n",
       "      <td>0.62</td>\n",
       "    </tr>\n",
       "  </tbody>\n",
       "</table>\n",
       "</div>"
      ],
      "text/plain": [
       "             Último  Abertura   Máxima   Mínima        Vol.  Var%\n",
       "Data                                                             \n",
       "01.02.2024  128.481   127.752  128.481  127.284  10230000.0  0.57\n",
       "31.01.2024  127.752   127.402  129.558  127.326  12500000.0  0.28\n",
       "30.01.2024  127.402   128.492  128.492  127.105  10040000.0 -0.86\n",
       "29.01.2024  128.503   128.970  129.068  127.853   8760000.0 -0.36\n",
       "26.01.2024  128.967   128.196  129.252  127.869   8510000.0  0.62"
      ]
     },
     "execution_count": 34,
     "metadata": {},
     "output_type": "execute_result"
    }
   ],
   "source": [
    "dados.head()"
   ]
  },
  {
   "cell_type": "code",
   "execution_count": 35,
   "metadata": {},
   "outputs": [
    {
     "data": {
      "text/html": [
       "<div>\n",
       "<style scoped>\n",
       "    .dataframe tbody tr th:only-of-type {\n",
       "        vertical-align: middle;\n",
       "    }\n",
       "\n",
       "    .dataframe tbody tr th {\n",
       "        vertical-align: top;\n",
       "    }\n",
       "\n",
       "    .dataframe thead th {\n",
       "        text-align: right;\n",
       "    }\n",
       "</style>\n",
       "<table border=\"1\" class=\"dataframe\">\n",
       "  <thead>\n",
       "    <tr style=\"text-align: right;\">\n",
       "      <th></th>\n",
       "      <th>Último</th>\n",
       "      <th>Abertura</th>\n",
       "      <th>Máxima</th>\n",
       "      <th>Mínima</th>\n",
       "      <th>Vol.</th>\n",
       "      <th>Var%</th>\n",
       "    </tr>\n",
       "  </thead>\n",
       "  <tbody>\n",
       "    <tr>\n",
       "      <th>count</th>\n",
       "      <td>4974.000000</td>\n",
       "      <td>4974.000000</td>\n",
       "      <td>4974.000000</td>\n",
       "      <td>4974.000000</td>\n",
       "      <td>4.973000e+03</td>\n",
       "      <td>4974.000000</td>\n",
       "    </tr>\n",
       "    <tr>\n",
       "      <th>mean</th>\n",
       "      <td>67.116656</td>\n",
       "      <td>67.095945</td>\n",
       "      <td>67.766885</td>\n",
       "      <td>66.432069</td>\n",
       "      <td>3.438505e+07</td>\n",
       "      <td>0.049825</td>\n",
       "    </tr>\n",
       "    <tr>\n",
       "      <th>std</th>\n",
       "      <td>28.255798</td>\n",
       "      <td>28.249492</td>\n",
       "      <td>28.443657</td>\n",
       "      <td>28.058351</td>\n",
       "      <td>7.981133e+07</td>\n",
       "      <td>1.703218</td>\n",
       "    </tr>\n",
       "    <tr>\n",
       "      <th>min</th>\n",
       "      <td>17.604000</td>\n",
       "      <td>17.607000</td>\n",
       "      <td>18.387000</td>\n",
       "      <td>17.601000</td>\n",
       "      <td>1.121000e+05</td>\n",
       "      <td>-14.780000</td>\n",
       "    </tr>\n",
       "    <tr>\n",
       "      <th>25%</th>\n",
       "      <td>49.181000</td>\n",
       "      <td>49.175500</td>\n",
       "      <td>49.700750</td>\n",
       "      <td>48.513250</td>\n",
       "      <td>2.820000e+06</td>\n",
       "      <td>-0.830000</td>\n",
       "    </tr>\n",
       "    <tr>\n",
       "      <th>50%</th>\n",
       "      <td>60.764000</td>\n",
       "      <td>60.762500</td>\n",
       "      <td>61.366500</td>\n",
       "      <td>60.081500</td>\n",
       "      <td>4.450000e+06</td>\n",
       "      <td>0.070000</td>\n",
       "    </tr>\n",
       "    <tr>\n",
       "      <th>75%</th>\n",
       "      <td>86.415000</td>\n",
       "      <td>86.396500</td>\n",
       "      <td>87.461750</td>\n",
       "      <td>85.745000</td>\n",
       "      <td>1.215000e+07</td>\n",
       "      <td>0.980000</td>\n",
       "    </tr>\n",
       "    <tr>\n",
       "      <th>max</th>\n",
       "      <td>134.194000</td>\n",
       "      <td>134.194000</td>\n",
       "      <td>134.392000</td>\n",
       "      <td>133.832000</td>\n",
       "      <td>9.949600e+08</td>\n",
       "      <td>14.660000</td>\n",
       "    </tr>\n",
       "  </tbody>\n",
       "</table>\n",
       "</div>"
      ],
      "text/plain": [
       "            Último     Abertura       Máxima       Mínima          Vol.  \\\n",
       "count  4974.000000  4974.000000  4974.000000  4974.000000  4.973000e+03   \n",
       "mean     67.116656    67.095945    67.766885    66.432069  3.438505e+07   \n",
       "std      28.255798    28.249492    28.443657    28.058351  7.981133e+07   \n",
       "min      17.604000    17.607000    18.387000    17.601000  1.121000e+05   \n",
       "25%      49.181000    49.175500    49.700750    48.513250  2.820000e+06   \n",
       "50%      60.764000    60.762500    61.366500    60.081500  4.450000e+06   \n",
       "75%      86.415000    86.396500    87.461750    85.745000  1.215000e+07   \n",
       "max     134.194000   134.194000   134.392000   133.832000  9.949600e+08   \n",
       "\n",
       "              Var%  \n",
       "count  4974.000000  \n",
       "mean      0.049825  \n",
       "std       1.703218  \n",
       "min     -14.780000  \n",
       "25%      -0.830000  \n",
       "50%       0.070000  \n",
       "75%       0.980000  \n",
       "max      14.660000  "
      ]
     },
     "execution_count": 35,
     "metadata": {},
     "output_type": "execute_result"
    }
   ],
   "source": [
    "dados.describe()"
   ]
  },
  {
   "cell_type": "code",
   "execution_count": 36,
   "metadata": {},
   "outputs": [
    {
     "data": {
      "text/plain": [
       "Último      0\n",
       "Abertura    0\n",
       "Máxima      0\n",
       "Mínima      0\n",
       "Vol.        1\n",
       "Var%        0\n",
       "dtype: int64"
      ]
     },
     "execution_count": 36,
     "metadata": {},
     "output_type": "execute_result"
    }
   ],
   "source": [
    "dados.isnull().sum()"
   ]
  },
  {
   "cell_type": "code",
   "execution_count": 38,
   "metadata": {},
   "outputs": [
    {
     "data": {
      "image/png": "[encoded data removed]",
      "text/plain": [
       "<Figure size 1500x600 with 1 Axes>"
      ]
     },
     "metadata": {},
     "output_type": "display_data"
    }
   ],
   "source": [
    "plt.figure(figsize=(15, 6))\n",
    "plt.plot(dados['Último'])\n",
    "plt.title('Fechamento Diário do IBOVESPA')\n",
    "plt.xlabel('Data')\n",
    "plt.ylabel('Fechamento')\n",
    "plt.show()"
   ]
  },
  {
   "cell_type": "markdown",
   "metadata": {},
   "source": [
    "* O objetivo do gráfico é identificar anomalias nos dados, como outliers. Observamos que, em 2004, o valor de fechamento estava entre 120 e 140. Ao longo do tempo, esses valores oscilaram até que, em uma data específica (não visível na apresentação inicial do gráfico), ocorreu uma queda acentuada. Após essa queda, houve uma recuperação significativa. No entanto, até o ano de 2024, os valores apresentaram uma tendência de queda contínua.\n",
    "\n",
    "Essa análise preliminar sugere a necessidade de uma investigação mais detalhada para identificar os fatores que causaram essas variações extremas e as tendências de longo prazo no valor de fechamento da Bovespa."
   ]
  },
  {
   "cell_type": "markdown",
   "metadata": {},
   "source": [
    "### Modelagem"
   ]
  },
  {
   "cell_type": "markdown",
   "metadata": {},
   "source": [
    "1. Identificação de Parâmetro:"
   ]
  },
  {
   "cell_type": "markdown",
   "metadata": {},
   "source": [
    "2. Decomposição para analisar componentes sazonais e de tendência"
   ]
  },
  {
   "cell_type": "markdown",
   "metadata": {},
   "source": [
    "3. Treinamento do Modelo "
   ]
  },
  {
   "cell_type": "code",
   "execution_count": null,
   "metadata": {},
   "outputs": [],
   "source": []
  },
  {
   "cell_type": "markdown",
   "metadata": {},
   "source": [
    "## Resultados:"
   ]
  },
  {
   "cell_type": "markdown",
   "metadata": {},
   "source": [
    "### Avaliação do modelo"
   ]
  },
  {
   "cell_type": "markdown",
   "metadata": {},
   "source": [
    "### Visualização dos resultados"
   ]
  },
  {
   "cell_type": "markdown",
   "metadata": {},
   "source": [
    "### Discussão sobre a acuracidade atingida"
   ]
  },
  {
   "cell_type": "markdown",
   "metadata": {},
   "source": [
    "## Conclusão"
   ]
  },
  {
   "cell_type": "markdown",
   "metadata": {},
   "source": [
    "### Sumário dos resultados"
   ]
  },
  {
   "cell_type": "markdown",
   "metadata": {},
   "source": [
    "### Próximos passos"
   ]
  },
  {
   "cell_type": "markdown",
   "metadata": {},
   "source": []
  }
 ],
 "metadata": {
  "kernelspec": {
   "display_name": "Python 3",
   "language": "python",
   "name": "python3"
  },
  "language_info": {
   "codemirror_mode": {
    "name": "ipython",
    "version": 3
   },
   "file_extension": ".py",
   "mimetype": "text/x-python",
   "name": "python",
   "nbconvert_exporter": "python",
   "pygments_lexer": "ipython3",
   "version": "3.10.13"
  }
 },
 "nbformat": 4,
 "nbformat_minor": 2
}
